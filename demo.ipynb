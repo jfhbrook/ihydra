{
 "cells": [
  {
   "cell_type": "markdown",
   "metadata": {},
   "source": [
    "# IHydra Demo\n",
    "## by Josh H\n",
    "### @jfhbrook on Twitter\n",
    "\n",
    "\n",
    "## Init\n",
    "\n",
    "Run this cell first to init the webcam, define some procedures and do the render wiring:"
   ]
  },
  {
   "cell_type": "code",
   "execution_count": 108,
   "metadata": {},
   "outputs": [
    {
     "data": {
      "text/plain": [
       "undefined"
      ]
     },
     "execution_count": 108,
     "metadata": {},
     "output_type": "execute_result"
    },
    {
     "name": "stdout",
     "output_type": "stream",
     "text": [
      "[\n",
      "  {\n",
      "    facing: null,\n",
      "    deviceId: '83d345e6503e6c0d9caf6d2eabe78cf7be40c9237c86e8b4a17044fd32182b17',\n",
      "    label: 'Logitech HD Webcam C270 (046d:0825)',\n",
      "    kind: 'videoinput',\n",
      "    groupId: '0b763e857a7349c3b218e757e4f65a2e617574712d019847bc9ac073d7fa6429'\n",
      "  }\n",
      "]\n"
     ]
    }
   ],
   "source": [
    "s0.initCam()\n",
    "\n",
    "function flowerPattern(freq, scroll, color) {\n",
    "  osc(freq, scroll, color)\n",
    "    .rotate(0, () => 0.001 * Math.sin(time))\n",
    "    .kaleid(5)\n",
    "    .rotate(0, -0.2)\n",
    "    .out(o0)\n",
    "}\n",
    "\n",
    "function webcam([r, g, b], pxl, rot, [xAmp, xOffset], yScroll) {\n",
    "  src(s0)\n",
    "    .color(r, g, b)\n",
    "    .pixelate(pxl * 1e6)\n",
    "    .rotate(0, rot)\n",
    "    .scrollX(100, () => (xAmp * 0.0001 * Math.sin(time)) + xOffset)\n",
    "    .scrollY(1, yScroll)\n",
    "    .out(o1)\n",
    "    \n",
    "}\n",
    "\n",
    "flowerPattern(10, 1, 1)\n",
    "webcam([2, 1, 3], 1e6, -1, [5, 0.7], -0.4)\n",
    "\n",
    "src(o1).add(o0, 0.7).modulate(o0, 0.05).out(o3)"
   ]
  },
  {
   "cell_type": "markdown",
   "metadata": {},
   "source": [
    "## Render\n",
    "\n",
    "This cell is separate from init so it's easy to change your view!"
   ]
  },
  {
   "cell_type": "code",
   "execution_count": 110,
   "metadata": {},
   "outputs": [
    {
     "data": {
      "text/plain": [
       "undefined"
      ]
     },
     "execution_count": 110,
     "metadata": {},
     "output_type": "execute_result"
    }
   ],
   "source": [
    "render(o3)"
   ]
  },
  {
   "cell_type": "markdown",
   "metadata": {},
   "source": [
    "# Have Some Fun\n",
    "\n",
    "Edit and run any of these cells! Go to town!"
   ]
  },
  {
   "cell_type": "code",
   "execution_count": 107,
   "metadata": {},
   "outputs": [
    {
     "data": {
      "text/plain": [
       "undefined"
      ]
     },
     "execution_count": 107,
     "metadata": {},
     "output_type": "execute_result"
    },
    {
     "name": "stdout",
     "output_type": "stream",
     "text": [
      "beat\n",
      "beat\n"
     ]
    }
   ],
   "source": [
    "// Red/blue, relatively relaxed\n",
    "flowerPattern(10, 1, 1)"
   ]
  },
  {
   "cell_type": "code",
   "execution_count": 112,
   "metadata": {},
   "outputs": [
    {
     "data": {
      "text/plain": [
       "undefined"
      ]
     },
     "execution_count": 112,
     "metadata": {},
     "output_type": "execute_result"
    }
   ],
   "source": [
    "// Psychedelic colors, a little frantic\n",
    "flowerPattern(5, 2.8, 8)"
   ]
  },
  {
   "cell_type": "code",
   "execution_count": 113,
   "metadata": {},
   "outputs": [
    {
     "data": {
      "text/plain": [
       "undefined"
      ]
     },
     "execution_count": 113,
     "metadata": {},
     "output_type": "execute_result"
    }
   ],
   "source": [
    "// Big Max Headroom energy\n",
    "flowerPattern(100, 1, 0)"
   ]
  },
  {
   "cell_type": "code",
   "execution_count": 84,
   "metadata": {},
   "outputs": [
    {
     "data": {
      "text/plain": [
       "undefined"
      ]
     },
     "execution_count": 84,
     "metadata": {},
     "output_type": "execute_result"
    }
   ],
   "source": [
    "// Red and blue, fairly pixellated, wavy x/y\n",
    "webcam([2, 1, 3], 1, -1, [5, 0.7], -0.4)"
   ]
  },
  {
   "cell_type": "code",
   "execution_count": 89,
   "metadata": {},
   "outputs": [
    {
     "data": {
      "text/plain": [
       "undefined"
      ]
     },
     "execution_count": 89,
     "metadata": {},
     "output_type": "execute_result"
    }
   ],
   "source": [
    "// Teal, less x movement, faster rotate\n",
    "webcam([1, 3, 5], 10, -2, [2, 0.1], 1.5)"
   ]
  },
  {
   "cell_type": "code",
   "execution_count": 111,
   "metadata": {},
   "outputs": [
    {
     "data": {
      "text/plain": [
       "undefined"
      ]
     },
     "execution_count": 111,
     "metadata": {},
     "output_type": "execute_result"
    }
   ],
   "source": [
    "// Very slow, very green, slightly red\n",
    "webcam([0.5, 1, 0], 0.01, 0.1, [0.5, 0], -0.1)"
   ]
  },
  {
   "cell_type": "code",
   "execution_count": null,
   "metadata": {},
   "outputs": [],
   "source": []
  }
 ],
 "metadata": {
  "kernelspec": {
   "display_name": "IHydra (development)",
   "language": "javascript",
   "name": "ihydra-dev"
  },
  "language_info": {
   "file_extension": ".js",
   "mimetype": "application/javascript",
   "name": "javascript",
   "version": "12.8.1"
  }
 },
 "nbformat": 4,
 "nbformat_minor": 2
}
